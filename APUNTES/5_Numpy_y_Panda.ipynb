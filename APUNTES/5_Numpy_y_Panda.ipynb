{
 "cells": [
  {
   "cell_type": "markdown",
   "id": "15f8e192",
   "metadata": {},
   "source": [
    "# Fundamentos de analítica de datos\n",
    "### Agosto 29 - 2025"
   ]
  },
  {
   "cell_type": "markdown",
   "id": "8625ca34",
   "metadata": {},
   "source": []
  }
 ],
 "metadata": {
  "language_info": {
   "name": "python"
  }
 },
 "nbformat": 4,
 "nbformat_minor": 5
}
