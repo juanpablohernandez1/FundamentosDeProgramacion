{
 "cells": [
  {
   "cell_type": "markdown",
   "id": "f9b76931",
   "metadata": {},
   "source": [
    "# Control de flujo\n",
    "### Se usan para ejecutar acciones repetidas con posibles criterios para detener las ejecuciones"
   ]
  },
  {
   "cell_type": "code",
   "execution_count": null,
   "id": "b34d8e34",
   "metadata": {},
   "outputs": [],
   "source": [
    "speed = 60\n",
    "traffic_lights = [\"red\", \"green\", \"yellow\"]\n",
    "current_traffic_light = \"green\"\n",
    "while current_traffic_light == \"green\":\n",
    "    print(f\"running at {speed} km/h because traffic light is green\")\n",
    "    current_traffic_light = random.sample(traffic_lights, k=1)[0]\n",
    "print(f\"not running because traffic light is {current_traffic_light}\")"
   ]
  },
  {
   "cell_type": "code",
   "execution_count": null,
   "id": "4376547d",
   "metadata": {},
   "outputs": [],
   "source": [
    "estudiantesa1 = [\"Camila\",\"Pablo\",\"Sebastián\",\"Guillermo\"]\n",
    "estudiantesa2 = [\"Danna\",\"María\",\"Felipe\",\"Miguel\",\"Isaac\",\"Arnold\"]\n",
    "estudiantesa3 = [\"Mauricio, Clara, Sofía, Daniel, Paulina, Kevin\"]\n",
    "estudiantesa4 = [\"Juan Pablo\",\"Antonio\",\"Alfonso\",\"Josué\",\"Estefanía\"]\n",
    "estudiantesa = [estudiantesa1,estudiantesa2,estudiantesa3,estudiantesa4]"
   ]
  },
  {
   "cell_type": "code",
   "execution_count": null,
   "id": "42879db5",
   "metadata": {},
   "outputs": [],
   "source": [
    "estudiantesb1 = [\"Jerónimo\",\"Juan Pablo\",\"Susana\"]\n",
    "estudiantesb2 = [\"Carlos\"]\n",
    "estudiantesb = [estudiantesb1,estudiantesb2]"
   ]
  },
  {
   "cell_type": "code",
   "execution_count": null,
   "id": "ef464f59",
   "metadata": {},
   "outputs": [],
   "source": [
    "while estudiantesa1 != \"Sebastián\"\n",
    "   numero_saludos "
   ]
  },
  {
   "cell_type": "markdown",
   "id": "210585dd",
   "metadata": {},
   "source": [
    "### Nota: La Diferencia entre if y elif es que se utiliza el uno o el otro dependiendo de la velocidad de respuesta de la operación\n",
    "\n"
   ]
  },
  {
   "cell_type": "markdown",
   "id": "806683c0",
   "metadata": {},
   "source": [
    "# Funciones\n",
    "### Encapsular el código, para que el código sea eficiente y escalable\n",
    "\n",
    "### Nota 1: Para hacer saltos de línea se utiliza /n, y n/n para espaciar más\n",
    "### Nota 2: Los argumentos posicionales no son conmutativos, depende del orden\n",
    "### Nota 3: Modificar variables globales directamente es una mala práctica al crear funciones\n",
    "\n",
    "### Funciones importantes de Python\n",
    "##### Help: muestra información de la función\n",
    "##### "
   ]
  },
  {
   "cell_type": "markdown",
   "id": "a414233e",
   "metadata": {},
   "source": [
    "### Investigar:\n",
    "##### Mandatory arguments\n",
    "##### Positional arguments\n",
    "##### Asterisco: para que sirve en funciones (Y Python en general)"
   ]
  },
  {
   "cell_type": "markdown",
   "id": "5dc19df2",
   "metadata": {},
   "source": [
    "##### Hacer requests a contenidos (Bonos para talleres)"
   ]
  }
 ],
 "metadata": {
  "language_info": {
   "name": "python"
  }
 },
 "nbformat": 4,
 "nbformat_minor": 5
}
