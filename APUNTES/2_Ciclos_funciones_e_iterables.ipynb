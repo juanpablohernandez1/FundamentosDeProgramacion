{
 "cells": [
  {
   "cell_type": "markdown",
   "id": "24b5f964",
   "metadata": {},
   "source": [
    "# Fundamentos de analítica de datos\n",
    "### Agosto 16 - 2025"
   ]
  },
  {
   "cell_type": "markdown",
   "id": "f9b76931",
   "metadata": {},
   "source": [
    "# Control de flujo\n",
    "### Se usan para ejecutar acciones repetidas con posibles criterios para detener las ejecuciones"
   ]
  },
  {
   "cell_type": "markdown",
   "id": "210585dd",
   "metadata": {},
   "source": [
    "### Nota: La Diferencia entre if y elif es que se utiliza el uno o el otro dependiendo de la velocidad de respuesta de la operación\n",
    "\n"
   ]
  },
  {
   "cell_type": "markdown",
   "id": "806683c0",
   "metadata": {},
   "source": [
    "# Funciones\n",
    "### Encapsular el código, para que el código sea eficiente y escalable\n",
    "\n",
    "### Nota 1: Para hacer saltos de línea se utiliza /n, y n/n para espaciar más\n",
    "### Nota 2: Los argumentos posicionales no son conmutativos, depende del orden\n",
    "### Nota 3: Modificar variables globales directamente es una mala práctica al crear funciones"
   ]
  },
  {
   "cell_type": "markdown",
   "id": "6bca4d42",
   "metadata": {},
   "source": [
    "# Iterables\n",
    "### Es un objeto que sabe devolver sus elementos uno a uno.\n",
    "### dict, tuple y set son iterables"
   ]
  },
  {
   "cell_type": "markdown",
   "id": "b5c71f24",
   "metadata": {},
   "source": [
    "##### Para que sea un iterable debe implementar el método __iter__, el cual retorna un iterator. Incluso si aún no sabemos qué es un iterator, sabemos que podemos obtener uno si le pasamos un iterable a la función iter"
   ]
  },
  {
   "cell_type": "code",
   "execution_count": null,
   "id": "eebcb553",
   "metadata": {},
   "outputs": [],
   "source": [
    "class StudentNames:\n",
    "    def __init__(self, names):\n",
    "        self._names = tuple(names)\n",
    "    \n",
    "    def __iter__(self):\n",
    "        return iter(self._names)"
   ]
  },
  {
   "cell_type": "code",
   "execution_count": null,
   "id": "fdf1aaae",
   "metadata": {},
   "outputs": [],
   "source": [
    "names = StudentNames([\"Sebastian\", \"Pepito\", \"Pablito\"])\n",
    "for n in names:\n",
    "    print(n)"
   ]
  },
  {
   "cell_type": "markdown",
   "id": "196c0964",
   "metadata": {},
   "source": [
    "### Notas\n",
    "##### Return solo entrega el resultado y no guarda nada del proceso,\n",
    "##### Yield entrega resultado en cada iteración, sí guarda proceso\n",
    "### Investigar:\n",
    "##### Mandatory arguments\n",
    "##### Positional arguments\n",
    "##### Asterisco: para que sirve en funciones (Y Python en general)"
   ]
  }
 ],
 "metadata": {
  "language_info": {
   "name": "python"
  }
 },
 "nbformat": 4,
 "nbformat_minor": 5
}
