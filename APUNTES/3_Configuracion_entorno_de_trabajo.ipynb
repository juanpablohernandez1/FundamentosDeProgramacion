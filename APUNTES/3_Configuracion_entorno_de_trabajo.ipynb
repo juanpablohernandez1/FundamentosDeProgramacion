{
 "cells": [
  {
   "cell_type": "markdown",
   "id": "9767d1f4",
   "metadata": {},
   "source": [
    "# Fundamentos de analítica de datos\n",
    "### Agosto 22 - 2025"
   ]
  },
  {
   "cell_type": "markdown",
   "id": "1f622377",
   "metadata": {},
   "source": [
    "# Ambientes para trabajar en Python\n",
    "### Conda: Gestor de entornos y paquetes locales\n",
    "### Google Collab: Permite correr Jupyter, permite tener Python, R y Julia\n",
    "### Jupyter Lab: Entorno interactivo de notebooks (local)"
   ]
  },
  {
   "cell_type": "markdown",
   "id": "a10582aa",
   "metadata": {},
   "source": [
    "# Módulos\n",
    "### Archivo de Python con definiciones de funciones, clases y variables. Conjunto de items y scripts que se importan.\n",
    "\n",
    "# Paquetes\n",
    "### Conjunto de módulos\n",
    "##### Un paquete puede tener subpaquetes\n",
    "### Archivo __init__.py: Fundamental para crear paquetes en Python. \n",
    "\n",
    "##### Indica que la carpeta es un paquete Python\n",
    "##### Se ejecuta cuando se importa el paquete\n",
    "##### Define qué se exporta del paquete\n",
    "##### Puede estar vacío o contener código de inicialización\n",
    "\n",
    "######    \"mi_libreria/\\n\",\n",
    "######    \"├── __init__.py          # Archivo especial que define el paquete\\n\",\n",
    "######    \"├── modulo1.py          # Primer módulo\\n\",\n",
    "######    \"├── modulo2.py          # Segundo módulo\\n\",\n",
    "######   \"└── subpaquete/\\n\",\n",
    "######    \"    ├── __init__.py\\n\",\n",
    "######    \"    └── otro_modulo.py\\n\","
   ]
  }
 ],
 "metadata": {
  "kernelspec": {
   "display_name": "Python 3",
   "language": "python",
   "name": "python3"
  },
  "language_info": {
   "codemirror_mode": {
    "name": "ipython",
    "version": 3
   },
   "file_extension": ".py",
   "mimetype": "text/x-python",
   "name": "python",
   "nbconvert_exporter": "python",
   "pygments_lexer": "ipython3",
   "version": "3.13.7"
  }
 },
 "nbformat": 4,
 "nbformat_minor": 5
}
