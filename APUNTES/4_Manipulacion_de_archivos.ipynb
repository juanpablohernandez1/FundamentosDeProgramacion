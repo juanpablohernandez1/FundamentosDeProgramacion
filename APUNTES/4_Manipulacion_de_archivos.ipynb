{
 "cells": [
  {
   "cell_type": "markdown",
   "id": "c94bf138",
   "metadata": {},
   "source": [
    "# Fundamentos de analítica de datos\n",
    "### Agosto 23 - 2025"
   ]
  },
  {
   "cell_type": "markdown",
   "id": "fc49564f",
   "metadata": {},
   "source": [
    "# Lectura y escritura de archivos\n",
    "### Texto sin formato\n",
    "##### Realmente estos archivos pueden venir con algun formato, simplemente que no encaja dentro de algún estándar. Empecemos considerando el archivo files/abstract.txt, el cual contiene el abstract de un famoso artículo."
   ]
  },
  {
   "cell_type": "code",
   "execution_count": null,
   "id": "4871b07b",
   "metadata": {},
   "outputs": [],
   "source": [
    "f = open(\"local/files/abstract.txt\", \"r\")\n",
    "content = f.readlines()\n",
    "f.close()\n",
    "content"
   ]
  },
  {
   "cell_type": "markdown",
   "id": "bd0d9139",
   "metadata": {},
   "source": [
    "##### - Usamos la función open para abrir un archivo (\"local/files/abstract.txt\") en modo lectura (\"r\").\n",
    "##### - Leimos todas las líneas del archivo.\n",
    "##### - Cerramos el archivo."
   ]
  },
  {
   "cell_type": "markdown",
   "id": "8cad1069",
   "metadata": {},
   "source": [
    "### CSV\n",
    "##### Módulo, hay valores en cada fila. Se utiliza para guardar una gran cantidad de data. Se pueden leer fácilmente utilizando la librería Pandas."
   ]
  },
  {
   "cell_type": "code",
   "execution_count": null,
   "id": "2e994dd5",
   "metadata": {},
   "outputs": [],
   "source": [
    "import csv"
   ]
  },
  {
   "cell_type": "code",
   "execution_count": null,
   "id": "e97c067b",
   "metadata": {},
   "outputs": [],
   "source": [
    "with open(\"local/data/demodata.csv\", \"r\") as f:\n",
    "    reader = csv.DictReader(f)\n",
    "    for row in reader:\n",
    "        print(row)"
   ]
  },
  {
   "cell_type": "markdown",
   "id": "9657ecb9",
   "metadata": {},
   "source": [
    "### JSON\n",
    "##### Formato de dato y tipo de archivo. Similar a un diccionario. Presenta un nivel grande de abstracción y manipulación."
   ]
  },
  {
   "cell_type": "code",
   "execution_count": 1,
   "id": "79f0f1a1",
   "metadata": {},
   "outputs": [],
   "source": [
    "import json"
   ]
  },
  {
   "cell_type": "code",
   "execution_count": null,
   "id": "1adee8cf",
   "metadata": {},
   "outputs": [],
   "source": [
    "with open(\"local/files/coco_example.json\", \"r\") as f:\n",
    "    data = json.load(f)\n",
    "data"
   ]
  },
  {
   "cell_type": "markdown",
   "id": "9dcd1eae",
   "metadata": {},
   "source": [
    "### XML\n",
    "##### Estructura más compleja"
   ]
  },
  {
   "cell_type": "markdown",
   "id": "a1deeaa5",
   "metadata": {},
   "source": [
    "### YAML\n",
    "##### Parecido a JSON pero más legible"
   ]
  },
  {
   "cell_type": "markdown",
   "id": "86b59c1c",
   "metadata": {},
   "source": [
    "# Usando Blob\n",
    "### BLOB significa Binary Large Object (Objeto Binario Grande). Es una forma de manejar datos binarios como una secuencia de bytes.\n",
    "\n",
    "##### Todo archivo es bytes: Internamente, todos los archivos (texto, imagen, video) son secuencias de bytes\n",
    "##### Sin interpretación: Un blob no interpreta los datos, solo los almacena como bytes\n",
    "##### Flexibilidad: Puedes procesar cualquier tipo de archivo de forma uniforme"
   ]
  },
  {
   "cell_type": "markdown",
   "id": "6b20d362",
   "metadata": {},
   "source": [
    "### Pendientes\n",
    "\n",
    "##### Bonus: Hacer Webscrapping"
   ]
  }
 ],
 "metadata": {
  "kernelspec": {
   "display_name": "Python 3",
   "language": "python",
   "name": "python3"
  },
  "language_info": {
   "codemirror_mode": {
    "name": "ipython",
    "version": 3
   },
   "file_extension": ".py",
   "mimetype": "text/x-python",
   "name": "python",
   "nbconvert_exporter": "python",
   "pygments_lexer": "ipython3",
   "version": "3.13.7"
  }
 },
 "nbformat": 4,
 "nbformat_minor": 5
}
