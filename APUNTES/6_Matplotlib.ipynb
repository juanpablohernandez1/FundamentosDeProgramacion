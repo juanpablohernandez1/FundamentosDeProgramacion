{
 "cells": [
  {
   "cell_type": "markdown",
   "id": "c798c916",
   "metadata": {},
   "source": [
    "# Fundamentos de analítica de datos\n",
    "### Agosto 30 - 2025"
   ]
  }
 ],
 "metadata": {
  "language_info": {
   "name": "python"
  }
 },
 "nbformat": 4,
 "nbformat_minor": 5
}
