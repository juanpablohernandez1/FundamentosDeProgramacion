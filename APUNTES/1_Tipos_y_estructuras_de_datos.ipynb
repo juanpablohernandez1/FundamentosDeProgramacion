{
 "cells": [
  {
   "cell_type": "markdown",
   "id": "ff2f9fe2",
   "metadata": {},
   "source": [
    "# Fundamentos de analítica de datos\n",
    "### Agosto 15 - 2025\n"
   ]
  },
  {
   "cell_type": "markdown",
   "id": "9cb18d7e",
   "metadata": {},
   "source": [
    "# TIPOS DE DATOS\n",
    "\n",
    "### Datos enteros\n",
    "### Datos flotantes (decimales)\n",
    "### Datos Booleanos (True or false)\n",
    "### String (dato de \"texto\")\n",
    "\n",
    "## Operadores\n",
    "\n",
    "#### lower() - Pone mayúscula en todo el texto/string\n",
    "#### upper() - Pone mayúscula en todo el texto/string\n",
    "#### capitalize() - Pone mayúscula al comienzo del texto/string\n",
    "#### count() - Cantidad de veces que logra contar un string\n",
    "#### startswith() - Te dice si el string comienza con un texto en específico o no (true or false)\n",
    "#### endswith() - Te dice si el string termina con un texto en específico o no (true or false)\n",
    "#### split() - Separa strings en substrings (separa el texto)\n",
    "#### reverse() - cambia el orden de la lista\n",
    "#### insert() - agrega un dato a la lista, especificando en qué parte\n",
    "#### append() - Agrega un dato a la lista al final de la misma\n",
    "#### sort() - Organiza la data de la lista en orden alfabético o numérico\n",
    "#### pop() - Elimina el último dato de la lista\n",
    "#### [] (corchetes) - Extrae info de strings\n",
    "##### EJEMPLO - [0:6] = primeros 6 caracteres del string\n",
    "#### Operaciones matemáticas básicas (suma, resta, mult, div, etc)\n",
    "#### % - Residuo de la división\n",
    "#### ** - Potencia\n",
    "#### mayor a, menor a - operador booleano\n",
    "#### Not - pasa a false\n",
    "\n",
    "## Curiosidades\n",
    "\n",
    "#### Python lee sin distinguir mayúsculas de minúsculas\n",
    "#### [::-1] = Invierte el string, pone el texto al revés\n",
    "#### variable_1 = None - Es una variable vacía, sin datos\n",
    "#### ¿Qué es underscore y cammelback?\n",
    "#### se pueden sumar substrings para que haga un solo string\n",
    "#### Se pueden multiplicar substrings también\n",
    "#### Al momento de multiplicar mi variable en corchetes [], Quedará el resultado dentro de esta lista\n",
    "##### EJEMPLO: [45]*3 = [45,45,45]\n",
    "#### Fecha no es un dato nativo de python, se requiere librería\n",
    "\n",
    "## Librerías\n",
    "\n",
    "### Numpy, Panda, Matplotlib\n",
    "### Datetime: From datetime import datetime\n",
    "\n",
    "## Futuros temas\n",
    "\n",
    "### Qué es el kernel\n",
    "\n",
    "# ESTRUCTURAS DE DATOS\n",
    "\n",
    "### Listas - Creadas con corchetes [] y variables o datos\n",
    "##### Las listas pueden ser variadas: enteros, flotantes, booleanos, vacíos, etc\n",
    "##### Se pueden tener listas dentro de listas (matrices)\n",
    "\n",
    "### Tuplas - Listas no modificables y sin elementos repetidos \n",
    "##### En vez de corchetes, son paréntesis ()\n",
    "##### La tupla puede verificar - por ejemplo, arroja true si un dato si está en la tupla (dato in Tupla: True)\n",
    "\n",
    "### Sets - Listas ordenables, modificables y sin datos duplicados\n",
    "##### Se crean con llaves {}\n",
    "\n",
    "### Diccionarios - Es una colección de pares clave:valor\n",
    "##### Se crean con llaves {}\n",
    "##### La clave o string se asocia con un valor numérico - mi_diccionario = {\"nombre\": \"Juan\", \"edad\": 25, \"ciudad\": \"Medellín\"}\n"
   ]
  }
 ],
 "metadata": {
  "kernelspec": {
   "display_name": "Python 3",
   "language": "python",
   "name": "python3"
  },
  "language_info": {
   "codemirror_mode": {
    "name": "ipython",
    "version": 3
   },
   "file_extension": ".py",
   "mimetype": "text/x-python",
   "name": "python",
   "nbconvert_exporter": "python",
   "pygments_lexer": "ipython3",
   "version": "3.13.5"
  }
 },
 "nbformat": 4,
 "nbformat_minor": 5
}
