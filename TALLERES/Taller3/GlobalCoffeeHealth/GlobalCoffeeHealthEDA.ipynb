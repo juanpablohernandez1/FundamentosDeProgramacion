{
 "cells": [
  {
   "cell_type": "markdown",
   "id": "0e2a50f4",
   "metadata": {},
   "source": [
    "# Análisis exploratorio de Datos para correlación entre el consumo de café y el estado de salud de las personas"
   ]
  },
  {
   "cell_type": "markdown",
   "id": "c639fba0",
   "metadata": {},
   "source": [
    "##### The GlobalCoffeeHealth dataset contains 10,000 synthetic records reflecting real-world patterns of coffee consumption, sleep behavior, and health outcomes across 20 countries. It includes demographics, daily coffee intake, caffeine levels, sleep duration and quality, BMI, heart rate, stress, physical activity, health issues, occupation, smoking, and alcohol consumption.\n",
    "\n",
    "##### The dataset captures realistic correlations observed in research—such as caffeine’s impact on sleep, stress, and health—making it ideal for statistical analysis, predictive modeling, and lifestyle or wellness studies."
   ]
  },
  {
   "cell_type": "markdown",
   "id": "f9d2a8ae",
   "metadata": {},
   "source": [
    "# Objetivo del estudio"
   ]
  },
  {
   "cell_type": "markdown",
   "id": "9e5faf6f",
   "metadata": {},
   "source": [
    "### Objetivo general\n",
    "##### Explorar la relación entre el consumo de café, los hábitos de vida y la salud, con el fin de identificar los principales indicadores de salud afectados, evaluar la interacción con otros factores de riesgo o protección, y determinar un rango de consumo de café que resulte más saludable para la población analizada.\n",
    "### Objetivos específicos\n",
    "##### Analizar qué indicadores de salud (sueño, calidad del sueño, IMC, frecuencia cardíaca, nivel de estrés) se ven más afectados por un alto consumo de café, y determinar la naturaleza de esas relaciones.\n",
    "##### Explorar cómo factores asociados al estilo de vida, como el hábito de fumar, el consumo de alcohol y la actividad física, pueden potenciar o mitigar los efectos del consumo de café sobre la salud.\n",
    "##### Estimar un nivel promedio de consumo de café que permita minimizar impactos negativos sobre indicadores de salud, identificando un rango considerado “seguro” o no perjudicial."
   ]
  },
  {
   "cell_type": "code",
   "execution_count": null,
   "id": "c79e42a9",
   "metadata": {},
   "outputs": [],
   "source": [
    "import pandas as pd\n",
    "import numpy as np"
   ]
  },
  {
   "cell_type": "markdown",
   "id": "687dd757",
   "metadata": {},
   "source": [
    "### Importando datos"
   ]
  },
  {
   "cell_type": "code",
   "execution_count": null,
   "id": "f4302f03",
   "metadata": {},
   "outputs": [],
   "source": [
    "data = pd.read_csv('synthetic_coffee_health_10000.csv')\n",
    "data.info()"
   ]
  },
  {
   "cell_type": "code",
   "execution_count": null,
   "id": "36a813dd",
   "metadata": {},
   "outputs": [],
   "source": [
    "data.describe()"
   ]
  },
  {
   "cell_type": "markdown",
   "id": "d5b8b208",
   "metadata": {},
   "source": [
    "### Limpieza de base de datos"
   ]
  },
  {
   "cell_type": "code",
   "execution_count": null,
   "id": "ddf9b322",
   "metadata": {},
   "outputs": [],
   "source": [
    "print(\"Valores nulos por columna:\\n\", data.isnull().sum())\n",
    "print(\"\\nNúmero de duplicados:\", data.duplicated().sum())\n",
    "\n",
    "data.dtypes"
   ]
  },
  {
   "cell_type": "markdown",
   "id": "65287801",
   "metadata": {},
   "source": [
    "### Transformaciones propuestas"
   ]
  },
  {
   "cell_type": "code",
   "execution_count": null,
   "id": "490b1712",
   "metadata": {},
   "outputs": [],
   "source": [
    "# Variables categóricas\n",
    "categorical_vars = [\"Gender\", \"Country\", \"Sleep_Quality\", \n",
    "                    \"Stress_Level\", \"Health_Issues\", \"Occupation\"]\n",
    "for col in categorical_vars:\n",
    "    data[col] = data[col].astype(\"category\")\n",
    "\n",
    "# Variables binarias\n",
    "binary_vars = [\"Smoking\", \"Alcohol_Consumption\"]\n",
    "for col in binary_vars:\n",
    "    data[col] = data[col].astype(int)\n",
    "\n",
    "# Clasificación BMI\n",
    "def classify_bmi(bmi):\n",
    "    if bmi < 18.5:\n",
    "        return \"Underweight\"\n",
    "    elif 18.5 <= bmi < 25:\n",
    "        return \"Normal\"\n",
    "    elif 25 <= bmi < 30:\n",
    "        return \"Overweight\"\n",
    "    else:\n",
    "        return \"Obese\"\n",
    "\n",
    "data[\"BMI_Category\"] = data[\"BMI\"].apply(classify_bmi).astype(\"category\")\n",
    "\n",
    "# Vista previa después de transformaciones\n",
    "data.head()"
   ]
  }
 ],
 "metadata": {
  "kernelspec": {
   "display_name": "Python 3",
   "language": "python",
   "name": "python3"
  },
  "language_info": {
   "name": "python",
   "version": "3.13.7"
  }
 },
 "nbformat": 4,
 "nbformat_minor": 5
}
