{
  "cells": [
    {
      "cell_type": "markdown",
      "metadata": {
        "id": "Pyhbz5YdMlDf"
      },
      "source": [
        "#**TALLER 4**"
      ]
    },
    {
      "cell_type": "markdown",
      "metadata": {
        "id": "PBmKnxGwMNvS"
      },
      "source": [
        "### El jefe de personal de una agencia gubernamental administró cuatro pruebas de aptitud a cada uno de los 25 aspirantes a cargos administrativos en la agencia. Para el propósito del estudio, se aceptaron a todos los aspirantes para 25 posiciones independiente de sus puntajes en las pruebas. Después de un periodo de prueba, cada aspirante fue evaluado en su habilidad de trabajo. El puntaje obtenido relativo a la habilidad laboral (Y ) y los puntajes en las cuatro pruebas (X1, X2, X3, X4) están consignados en el archivo adjunto."
      ]
    },
    {
      "cell_type": "markdown",
      "metadata": {
        "id": "E0j96DLnM5z0"
      },
      "source": [
        "### Emplee el análisis de regresión lineal múltiple para obtener una ecuación de regresión estimada que sirva para pronosticar la habilidad laboral, dadas las demás variables (Xi)."
      ]
    },
    {
      "cell_type": "markdown",
      "metadata": {
        "id": "o1xeHN8oSF6K"
      },
      "source": [
        "### **Punto 1**"
      ]
    },
    {
      "cell_type": "markdown",
      "metadata": {
        "id": "SS7nrG4GSJSw"
      },
      "source": [
        "### Identifique observaciones que puedan considerarse problemáticas (datos atípicos, puntos de balanceo e influyentes) y analice si debe eliminarlas de su conjunto de datos o no, justifique. Repita la construcción del modelo de regresión si eliminó observaciones."
      ]
    },
    {
      "cell_type": "code",
      "execution_count": null,
      "metadata": {
        "colab": {
          "base_uri": "https://localhost:8080/"
        },
        "id": "U38_iVcbtaYr",
        "outputId": "3aef7f9c-8dc4-4f7a-820c-dab7007b33aa"
      },
      "outputs": [
        {
          "name": "stdout",
          "output_type": "stream",
          "text": [
            "Primeras filas del dataset de infecciones hospitalarias:\n",
            "    Y   X1   X2   X3   X4\n",
            "0  88   86  110  100   87\n",
            "1  80   62   97   99  100\n",
            "2  96  110  107  103  103\n",
            "3  76  101  117   93   95\n",
            "4  80  100  101   95   88\n",
            "                                 OLS Regression Results                                \n",
            "=======================================================================================\n",
            "Dep. Variable:                      Y   R-squared (uncentered):                   0.987\n",
            "Model:                            OLS   Adj. R-squared (uncentered):              0.984\n",
            "Method:                 Least Squares   F-statistic:                              387.0\n",
            "Date:                Mon, 29 Sep 2025   Prob (F-statistic):                    2.43e-19\n",
            "Time:                        23:15:41   Log-Likelihood:                         -95.174\n",
            "No. Observations:                  25   AIC:                                      198.3\n",
            "Df Residuals:                      21   BIC:                                      203.2\n",
            "Df Model:                           4                                                  \n",
            "Covariance Type:            nonrobust                                                  \n",
            "==============================================================================\n",
            "                 coef    std err          t      P>|t|      [0.025      0.975]\n",
            "------------------------------------------------------------------------------\n",
            "X1             0.1453      0.123      1.185      0.249      -0.110       0.400\n",
            "X2             0.0331      0.164      0.202      0.842      -0.308       0.374\n",
            "X3             0.1165      0.388      0.300      0.767      -0.690       0.923\n",
            "X4             0.6628      0.381      1.739      0.097      -0.130       1.455\n",
            "==============================================================================\n",
            "Omnibus:                        0.785   Durbin-Watson:                   2.206\n",
            "Prob(Omnibus):                  0.675   Jarque-Bera (JB):                0.710\n",
            "Skew:                          -0.040   Prob(JB):                        0.701\n",
            "Kurtosis:                       2.178   Cond. No.                         44.9\n",
            "==============================================================================\n",
            "\n",
            "Notes:\n",
            "[1] R² is computed without centering (uncentered) since the model does not contain a constant.\n",
            "[2] Standard Errors assume that the covariance matrix of the errors is correctly specified.\n"
          ]
        }
      ],
      "source": [
        "import pandas as pd\n",
        "import scipy.stats as stats\n",
        "import numpy as np\n",
        "import matplotlib.pyplot as plt\n",
        "import statsmodels.api as sm\n",
        "\n",
        "# AJUSTE DEL MODELO DE REGRESION LINEAL MULTIPLE\n",
        "data = pd.read_csv(\"base_trabajo4_raw.csv\", sep=\";\", header=0)\n",
        "\n",
        "# Mostramos las primeras filas para verificar la carga\n",
        "print(\"Primeras filas del dataset de infecciones hospitalarias:\")\n",
        "print(data.head())\n",
        "\n",
        "X = data[[\"X1\", \"X2\", \"X3\", \"X4\"]]\n",
        "Y = data[\"Y\"]\n",
        "\n",
        "modelo = sm.OLS(Y, X).fit()\n",
        "\n",
        "print(modelo.summary())"
      ]
    },
    {
      "cell_type": "markdown",
      "metadata": {
        "id": "jwz-2EvKZ3Qc"
      },
      "source": [
        "### **Cálculo de la tabla anova para el modelo de regresion lineal multiple**"
      ]
    },
    {
      "cell_type": "code",
      "execution_count": null,
      "metadata": {
        "colab": {
          "base_uri": "https://localhost:8080/"
        },
        "id": "YfqQQSb0wtKR",
        "outputId": "322437be-7d5b-4b97-959d-fdf7e1b79eda"
      },
      "outputs": [
        {
          "name": "stdout",
          "output_type": "stream",
          "text": [
            "Fuente de variación Suma de cuadrados  Grados de libertad Media cuadrática       F  Valor p\n",
            "          Regresión         6088.1882                   4        1522.0471 10.7771 0.000066\n",
            "           Residual         2965.8118                  21         141.2291                 \n",
            "              Total         9054.0000                  24                                  \n"
          ]
        }
      ],
      "source": [
        "n = len(Y)\n",
        "#X = X[[\"X1\", \"X3\", \"X5\"]]\n",
        "k = X.shape[1]  # Número de predictores (sin contar la constante\n",
        "gl_regresion = k\n",
        "gl_residual = n - k\n",
        "gl_total = n - 1\n",
        "\n",
        "sc_total = np.sum((Y - np.mean(Y))**2) # SST\n",
        "sc_residual = np.sum(modelo.resid**2) # SSE\n",
        "sc_regresion = sc_total - sc_residual # SSR\n",
        "mc_regresion = sc_regresion / gl_regresion # MSR\n",
        "mc_residual = sc_residual / gl_residual # MSE\n",
        "f_statistic = mc_regresion / mc_residual # F\n",
        "p_value = 1 - stats.f.cdf(f_statistic, gl_regresion, gl_residual)\n",
        "\n",
        "anova_table = pd.DataFrame({\n",
        "    'Fuente de variación': ['Regresión', 'Residual', 'Total'],\n",
        "    'Suma de cuadrados': [sc_regresion, sc_residual, sc_total],\n",
        "    'Grados de libertad': [gl_regresion, gl_residual, gl_total],\n",
        "    'Media cuadrática': [mc_regresion, mc_residual, ''],\n",
        "    'F': [f_statistic, '', ''],\n",
        "    'Valor p': [p_value, '', '']\n",
        "})\n",
        "\n",
        "anova_table['Suma de cuadrados'] = anova_table['Suma de cuadrados'].apply(lambda x: f\"{x:.4f}\" if isinstance(x, (int, float)) else x)\n",
        "anova_table['Media cuadrática'] = anova_table['Media cuadrática'].apply(lambda x: f\"{x:.4f}\" if isinstance(x, (int, float)) else x)\n",
        "anova_table['F'] = anova_table['F'].apply(lambda x: f\"{x:.4f}\" if isinstance(x, (int, float)) else x)\n",
        "anova_table['Valor p'] = anova_table['Valor p'].apply(lambda x: f\"{x:.6f}\" if isinstance(x, (int, float)) else x)\n",
        "print(anova_table.to_string(index=False))"
      ]
    },
    {
      "cell_type": "markdown",
      "metadata": {
        "id": "AdN2KjrWZwvi"
      },
      "source": [
        "### El modelo de regresión lineal es altamente significativo."
      ]
    },
    {
      "cell_type": "markdown",
      "metadata": {
        "id": "F5wllDojadAR"
      },
      "source": [
        "### **Análisis de atípicos (Residuales estandarizados)**"
      ]
    },
    {
      "cell_type": "code",
      "execution_count": null,
      "metadata": {
        "colab": {
          "base_uri": "https://localhost:8080/",
          "height": 763
        },
        "id": "ONdIxRWew4yT",
        "outputId": "d7f46607-c9ee-4c3a-bc8b-4a90e753216e"
      },
      "outputs": [
        {
          "name": "stdout",
          "output_type": "stream",
          "text": [
            "[ 0.21467355 -0.84413954 -0.31895094 -1.37550002 -0.61133067 -0.66376947\n",
            " -1.71233966  1.3116514   0.1553975   0.17639974 -1.69403945  1.51118288\n",
            " -0.04353366 -0.67817204  0.61261811  0.45685486  0.24300965  1.34036326\n",
            "  0.42720896 -0.77957636 -1.23657045  0.81876093 -0.28475578  1.26301943\n",
            " -0.06759896]\n",
            "Observaciones con residuos estandarizados mayores a 3 en valor absoluto:\n",
            "Empty DataFrame\n",
            "Columns: [X1, X2, X3, X4]\n",
            "Index: []\n"
          ]
        },
        {
          "data": {
            "image/png": "[encoded data removed]",
            "text/plain": [
              "<Figure size 1000x600 with 1 Axes>"
            ]
          },
          "metadata": {},
          "output_type": "display_data"
        }
      ],
      "source": [
        "res = modelo.resid_pearson\n",
        "print(res)\n",
        "\n",
        "# aplicar mask > 3\n",
        "mask = np.abs(res) > 3\n",
        "print(\"Observaciones con residuos estandarizados mayores a 3 en valor absoluto:\")\n",
        "print(X[mask])\n",
        "\n",
        "# grafica atipicos\n",
        "plt.figure(figsize=(10, 6))\n",
        "plt.scatter(range(len(res)), res)\n",
        "plt.axhline(y=3, color='r', linestyle='--')\n",
        "plt.axhline(y=-3, color='r', linestyle='--')\n",
        "plt.title('Residuales Estandarizados vs Orden de recolección de los datos')\n",
        "plt.xlabel('Orden de observación')\n",
        "plt.ylabel('Residuales Estandarizados')\n",
        "plt.grid(True)\n",
        "plt.tight_layout()\n",
        "plt.show()"
      ]
    },
    {
      "cell_type": "markdown",
      "metadata": {
        "id": "LE4xrDxybeBM"
      },
      "source": [
        "### Todavía no se demuestra que hayan valores atípicos en el dataset."
      ]
    },
    {
      "cell_type": "markdown",
      "metadata": {
        "id": "fVFBxQyyboj8"
      },
      "source": [
        "### **Análisis de atípicos (Residuales studentizados)**"
      ]
    },
    {
      "cell_type": "code",
      "execution_count": null,
      "metadata": {
        "colab": {
          "base_uri": "https://localhost:8080/",
          "height": 607
        },
        "id": "RBobVPV0w9Rv",
        "outputId": "7b31e5f2-bdd3-4cd2-b36d-327ca9828bf9"
      },
      "outputs": [
        {
          "data": {
            "image/png": "[encoded data removed]",
            "text/plain": [
              "<Figure size 1000x600 with 1 Axes>"
            ]
          },
          "metadata": {},
          "output_type": "display_data"
        }
      ],
      "source": [
        "# Residuales studentizados externamente (más robustos para detectar outliers)\n",
        "influence = modelo.get_influence()\n",
        "res_studentized = influence.resid_studentized_external\n",
        "\n",
        "# Usar estos para detectar outliers\n",
        "mask = np.abs(res_studentized) > 3\n",
        "\n",
        "# Gráfica\n",
        "plt.figure(figsize=(10, 6))\n",
        "plt.scatter(range(len(res_studentized)), res_studentized)\n",
        "plt.axhline(y=3, color='r', linestyle='--')\n",
        "plt.axhline(y=-3, color='r', linestyle='--')\n",
        "plt.title('Residuales Studentizados vs Orden de observación')\n",
        "plt.xlabel('Orden de observación')\n",
        "plt.ylabel('Residuales Studentizados')\n",
        "plt.grid(True)\n",
        "plt.tight_layout()\n",
        "plt.show()"
      ]
    },
    {
      "cell_type": "markdown",
      "metadata": {
        "id": "Rns7qOIjb2Fe"
      },
      "source": [
        "### Se demuestra que el modelo no está sineod afectado por puntos extraños en el dataset."
      ]
    },
    {
      "cell_type": "markdown",
      "metadata": {
        "id": "iAqAICtxe2Rg"
      },
      "source": [
        "### **Matriz Hat (Leverage)**"
      ]
    },
    {
      "cell_type": "code",
      "execution_count": null,
      "metadata": {
        "colab": {
          "base_uri": "https://localhost:8080/"
        },
        "id": "A_PAN1K9xBVO",
        "outputId": "fa81ed12-e686-44a2-9966-0d65e17d3f25"
      },
      "outputs": [
        {
          "name": "stdout",
          "output_type": "stream",
          "text": [
            "Valores de la matriz hat (leverage):\n",
            "[0.09772096 0.31255255 0.07889123 0.15684697 0.03853867 0.12856349\n",
            " 0.20455852 0.10376308 0.08127258 0.16328793 0.08706631 0.08026619\n",
            " 0.30070059 0.23932518 0.13292007 0.27367427 0.19944466 0.24383272\n",
            " 0.11033349 0.09793166 0.18791659 0.10427239 0.23971819 0.10856132\n",
            " 0.22804035]\n",
            "Umbral para identificar valores atípicos en la matriz hat: 0.4000\n",
            "Índices de observaciones con valores atípicos en la matriz hat:\n",
            "[]\n",
            "Observaciones con valores atípicos en la matriz hat:\n",
            "Empty DataFrame\n",
            "Columns: [Y, X1, X2, X3, X4]\n",
            "Index: []\n"
          ]
        }
      ],
      "source": [
        "# matriz hat\n",
        "influence = modelo.get_influence()\n",
        "hat_matrix = influence.hat_matrix_diag\n",
        "print(\"Valores de la matriz hat (leverage):\")\n",
        "print(hat_matrix)\n",
        "\n",
        "# identificar valores atipicos en la matriz hat\n",
        "threshold = 2 * (k + 1) / n\n",
        "print(f\"Umbral para identificar valores atípicos en la matriz hat: {threshold:.4f}\")\n",
        "outliers_hat = np.where(hat_matrix > threshold)[0]\n",
        "print(\"Índices de observaciones con valores atípicos en la matriz hat:\")\n",
        "print(outliers_hat)\n",
        "print(\"Observaciones con valores atípicos en la matriz hat:\")\n",
        "print(data.iloc[outliers_hat])"
      ]
    },
    {
      "cell_type": "code",
      "execution_count": null,
      "metadata": {
        "colab": {
          "base_uri": "https://localhost:8080/",
          "height": 607
        },
        "id": "eQJxXzojxKff",
        "outputId": "a1dea47a-cdb4-4065-e157-b6488c55e0b3"
      },
      "outputs": [
        {
          "data": {
            "image/png": "[encoded data removed]",
            "text/plain": [
              "<Figure size 1000x600 with 1 Axes>"
            ]
          },
          "metadata": {},
          "output_type": "display_data"
        }
      ],
      "source": [
        "# grafica outliers en la matriz hat\n",
        "plt.figure(figsize=(10, 6))\n",
        "plt.scatter(range(len(hat_matrix)), hat_matrix)\n",
        "plt.axhline(y=threshold, color='r', linestyle='--')\n",
        "plt.title('Matriz Hat (Leverage) vs Orden de observación')\n",
        "plt.xlabel('Orden de observación')\n",
        "plt.ylabel('Valores de la Matriz Hat')\n",
        "plt.grid(True)\n",
        "plt.tight_layout()\n",
        "plt.show()"
      ]
    },
    {
      "cell_type": "markdown",
      "metadata": {
        "id": "ADFkTfwXejwN"
      },
      "source": [
        "### No existen observaciones problemáticas. Nningún dato individual está ejerciendo una influencia desproporcionada sobre el modelo."
      ]
    },
    {
      "cell_type": "markdown",
      "metadata": {
        "id": "d7bXJOZBfW4T"
      },
      "source": [
        "### **Distancia de Cooks**"
      ]
    },
    {
      "cell_type": "code",
      "execution_count": null,
      "metadata": {
        "colab": {
          "base_uri": "https://localhost:8080/",
          "height": 833
        },
        "id": "r9qFKy8axQGI",
        "outputId": "5e5316b9-ca4f-41dd-daf1-e12ad6739030"
      },
      "outputs": [
        {
          "name": "stdout",
          "output_type": "stream",
          "text": [
            "Distancia de Cook para cada observación:\n",
            "[0.00138294 0.11781824 0.0023648  0.10435771 0.00389516 0.0186475\n",
            " 0.23698505 0.05556152 0.0005813  0.00181442 0.07494777 0.05417294\n",
            " 0.00029134 0.04755652 0.01658792 0.02706871 0.00459438 0.19153197\n",
            " 0.00636024 0.01828528 0.10892852 0.02178069 0.00840692 0.0544819\n",
            " 0.00043716]\n",
            "Umbral para identificar valores atípicos en la distancia de Cook: 0.1600\n",
            "Índices de observaciones con valores atípicos en la distancia de Cook:\n",
            "[ 6 17]\n",
            "Observaciones con valores atípicos en la distancia de Cook:\n",
            "      Y   X1   X2   X3   X4\n",
            "6    58  120   77   80   74\n",
            "17  127  150  118  107  110\n"
          ]
        },
        {
          "data": {
            "image/png": "[encoded data removed]",
            "text/plain": [
              "<Figure size 1000x600 with 1 Axes>"
            ]
          },
          "metadata": {},
          "output_type": "display_data"
        }
      ],
      "source": [
        "# distancia de cooks\n",
        "cooks_d = influence.cooks_distance[0]\n",
        "print(\"Distancia de Cook para cada observación:\")\n",
        "print(cooks_d)\n",
        "\n",
        "# identificar valores atipicos en la distancia de cooks\n",
        "cooks_threshold = 4 / n # revisar > a 1\n",
        "print(f\"Umbral para identificar valores atípicos en la distancia de Cook: {cooks_threshold:.4f}\")\n",
        "outliers_cooks = np.where(cooks_d > cooks_threshold)[0]\n",
        "print(\"Índices de observaciones con valores atípicos en la distancia de Cook:\")\n",
        "print(outliers_cooks)\n",
        "print(\"Observaciones con valores atípicos en la distancia de Cook:\")\n",
        "print(data.iloc[outliers_cooks])\n",
        "\n",
        "# grafica outliers en la distancia de cooks\n",
        "plt.figure(figsize=(10, 6))\n",
        "plt.stem(range(len(cooks_d)), cooks_d, markerfmt=\",\", basefmt=\" \")\n",
        "plt.axhline(y=cooks_threshold, color='r', linestyle='--')\n",
        "plt.title('Distancia de Cook vs Orden de observación')\n",
        "plt.xlabel('Orden de observación')\n",
        "plt.ylabel('Distancia de Cook')\n",
        "plt.grid(True)\n",
        "plt.tight_layout()\n",
        "plt.show()"
      ]
    },
    {
      "cell_type": "markdown",
      "metadata": {
        "id": "Pm89ePAyg-KC"
      },
      "source": [
        "### Las observaciones 6 y 17 ejercen una influencia notable"
      ]
    },
    {
      "cell_type": "code",
      "execution_count": null,
      "metadata": {
        "colab": {
          "base_uri": "https://localhost:8080/",
          "height": 833
        },
        "id": "BDzXa9xQxdoX",
        "outputId": "8c2c0bd9-12c1-43d6-d9db-620b75ae2fc1"
      },
      "outputs": [
        {
          "name": "stdout",
          "output_type": "stream",
          "text": [
            "DFFITS para cada observación:\n",
            "[ 0.07267176 -0.68712132 -0.0951651  -0.66717025 -0.12295753 -0.26979733\n",
            " -1.04642593  0.48265684  0.04708762  0.08321262 -0.57946298  0.48378294\n",
            " -0.03331675 -0.4319009   0.25401172  0.32334122  0.13252958  0.90704308\n",
            "  0.15642415 -0.26826672 -0.67515776  0.29332644 -0.17941528  0.4763231\n",
            " -0.04081482]\n",
            "Umbral para identificar valores atípicos en DFFITS: 0.8944\n",
            "Índices de observaciones con valores atípicos en DFFITS:\n",
            "[ 6 17]\n",
            "Observaciones con valores atípicos en DFFITS:\n",
            "      Y   X1   X2   X3   X4\n",
            "6    58  120   77   80   74\n",
            "17  127  150  118  107  110\n"
          ]
        },
        {
          "data": {
            "image/png": "[encoded data removed]",
            "text/plain": [
              "<Figure size 1000x600 with 1 Axes>"
            ]
          },
          "metadata": {},
          "output_type": "display_data"
        }
      ],
      "source": [
        "dffits = influence.dffits[0]\n",
        "print(\"DFFITS para cada observación:\")\n",
        "print(dffits)\n",
        "\n",
        "# identificar valores atipicos en dffits\n",
        "dffits_threshold = 2 * np.sqrt((k + 1) / n)\n",
        "print(f\"Umbral para identificar valores atípicos en DFFITS: {dffits_threshold:.4f}\")\n",
        "outliers_dffits = np.where(np.abs(dffits) > dffits_threshold)[0]\n",
        "print(\"Índices de observaciones con valores atípicos en DFFITS:\")\n",
        "print(outliers_dffits)\n",
        "print(\"Observaciones con valores atípicos en DFFITS:\")\n",
        "print(data.iloc[outliers_dffits])\n",
        "\n",
        "# grafica outliers en dffits\n",
        "plt.figure(figsize=(10, 6))\n",
        "plt.stem(range(len(dffits)), dffits, markerfmt=\",\", basefmt=\" \")\n",
        "plt.axhline(y=dffits_threshold, color='r', linestyle='--')\n",
        "plt.axhline(y=-dffits_threshold, color='r', linestyle='--')\n",
        "plt.title('DFFITS vs Orden de observación')\n",
        "plt.xlabel('Orden de observación')\n",
        "plt.ylabel('DFFITS')\n",
        "plt.grid(True)\n",
        "plt.tight_layout()\n",
        "plt.show()"
      ]
    },
    {
      "cell_type": "markdown",
      "metadata": {
        "id": "wAbEbxgAhPHX"
      },
      "source": [
        "### De nuevo las observaciones 6 y 17 influyen notablemente"
      ]
    },
    {
      "cell_type": "markdown",
      "metadata": {
        "id": "SmubgC1xhWjo"
      },
      "source": [
        "### Se borrarán estas observaciones con el fin de limpiar el conjunto de datos, y se hará de nuevo la construcción del modelo"
      ]
    },
    {
      "cell_type": "markdown",
      "metadata": {
        "id": "yRJ0shx-TmPH"
      },
      "source": [
        "### **Construcción del modelo después de la limpieza del conjunto de datos**"
      ]
    },
    {
      "cell_type": "code",
      "execution_count": null,
      "metadata": {
        "colab": {
          "base_uri": "https://localhost:8080/"
        },
        "id": "Y7_CDWuayN3e",
        "outputId": "29a520bf-68e3-4fa9-9840-a190f72d59f5"
      },
      "outputs": [
        {
          "name": "stdout",
          "output_type": "stream",
          "text": [
            "Primeras filas del dataset de infecciones hospitalarias:\n",
            "    Y   X1   X2   X3   X4\n",
            "0  88   86  110  100   87\n",
            "1  80   62   97   99  100\n",
            "2  96  110  107  103  103\n",
            "3  76  101  117   93   95\n",
            "4  80  100  101   95   88\n",
            "                                 OLS Regression Results                                \n",
            "=======================================================================================\n",
            "Dep. Variable:                      Y   R-squared (uncentered):                   0.989\n",
            "Model:                            OLS   Adj. R-squared (uncentered):              0.987\n",
            "Method:                 Least Squares   F-statistic:                              422.8\n",
            "Date:                Mon, 29 Sep 2025   Prob (F-statistic):                    2.82e-18\n",
            "Time:                        23:22:36   Log-Likelihood:                         -85.316\n",
            "No. Observations:                  23   AIC:                                      178.6\n",
            "Df Residuals:                      19   BIC:                                      183.2\n",
            "Df Model:                           4                                                  \n",
            "Covariance Type:            nonrobust                                                  \n",
            "==============================================================================\n",
            "                 coef    std err          t      P>|t|      [0.025      0.975]\n",
            "------------------------------------------------------------------------------\n",
            "X1             0.1833      0.135      1.362      0.189      -0.098       0.465\n",
            "X2            -0.0173      0.152     -0.114      0.911      -0.334       0.300\n",
            "X3             0.3271      0.374      0.874      0.393      -0.456       1.110\n",
            "X4             0.4541      0.359      1.264      0.222      -0.298       1.206\n",
            "==============================================================================\n",
            "Omnibus:                        0.704   Durbin-Watson:                   2.356\n",
            "Prob(Omnibus):                  0.703   Jarque-Bera (JB):                0.679\n",
            "Skew:                           0.094   Prob(JB):                        0.712\n",
            "Kurtosis:                       2.180   Cond. No.                         44.8\n",
            "==============================================================================\n",
            "\n",
            "Notes:\n",
            "[1] R² is computed without centering (uncentered) since the model does not contain a constant.\n",
            "[2] Standard Errors assume that the covariance matrix of the errors is correctly specified.\n"
          ]
        }
      ],
      "source": [
        "import pandas as pd\n",
        "import scipy.stats as stats\n",
        "import numpy as np\n",
        "import matplotlib.pyplot as plt\n",
        "import statsmodels.api as sm\n",
        "\n",
        "# AJUSTE DEL MODELO DE REGRESION LINEAL MULTIPLE\n",
        "data = pd.read_csv(\"base_trabajo4_limpio.csv\", sep=\";\", header=0)\n",
        "\n",
        "# Mostramos las primeras filas para verificar la carga\n",
        "print(\"Primeras filas del dataset de infecciones hospitalarias:\")\n",
        "print(data.head())\n",
        "\n",
        "X = data[[\"X1\", \"X2\", \"X3\", \"X4\"]]\n",
        "Y = data[\"Y\"]\n",
        "\n",
        "modelo = sm.OLS(Y, X).fit()\n",
        "\n",
        "print(modelo.summary())"
      ]
    },
    {
      "cell_type": "code",
      "execution_count": null,
      "metadata": {
        "colab": {
          "base_uri": "https://localhost:8080/"
        },
        "id": "ac9lzOgRzPM2",
        "outputId": "613325eb-e592-4562-c20a-19372b9b1b3e"
      },
      "outputs": [
        {
          "name": "stdout",
          "output_type": "stream",
          "text": [
            "Fuente de variación Suma de cuadrados  Grados de libertad Media cuadrática      F  Valor p\n",
            "          Regresión         4428.3755                   4        1107.0939 9.3699 0.000234\n",
            "           Residual         2244.9289                  19         118.1542                \n",
            "              Total         6673.3043                  22                                 \n"
          ]
        }
      ],
      "source": [
        "# calculo de la tabla anova para el modelo de regresion lineal multiple\n",
        "n = len(Y)\n",
        "#X = X[[\"X1\", \"X3\", \"X5\"]]\n",
        "k = X.shape[1]  # Número de predictores (sin contar la constante\n",
        "gl_regresion = k\n",
        "gl_residual = n - k\n",
        "gl_total = n - 1\n",
        "\n",
        "sc_total = np.sum((Y - np.mean(Y))**2) # SST\n",
        "sc_residual = np.sum(modelo.resid**2) # SSE\n",
        "sc_regresion = sc_total - sc_residual # SSR\n",
        "mc_regresion = sc_regresion / gl_regresion # MSR\n",
        "mc_residual = sc_residual / gl_residual # MSE\n",
        "f_statistic = mc_regresion / mc_residual # F\n",
        "p_value = 1 - stats.f.cdf(f_statistic, gl_regresion, gl_residual)\n",
        "\n",
        "anova_table = pd.DataFrame({\n",
        "    'Fuente de variación': ['Regresión', 'Residual', 'Total'],\n",
        "    'Suma de cuadrados': [sc_regresion, sc_residual, sc_total],\n",
        "    'Grados de libertad': [gl_regresion, gl_residual, gl_total],\n",
        "    'Media cuadrática': [mc_regresion, mc_residual, ''],\n",
        "    'F': [f_statistic, '', ''],\n",
        "    'Valor p': [p_value, '', '']\n",
        "})\n",
        "\n",
        "anova_table['Suma de cuadrados'] = anova_table['Suma de cuadrados'].apply(lambda x: f\"{x:.4f}\" if isinstance(x, (int, float)) else x)\n",
        "anova_table['Media cuadrática'] = anova_table['Media cuadrática'].apply(lambda x: f\"{x:.4f}\" if isinstance(x, (int, float)) else x)\n",
        "anova_table['F'] = anova_table['F'].apply(lambda x: f\"{x:.4f}\" if isinstance(x, (int, float)) else x)\n",
        "anova_table['Valor p'] = anova_table['Valor p'].apply(lambda x: f\"{x:.6f}\" if isinstance(x, (int, float)) else x)\n",
        "print(anova_table.to_string(index=False))"
      ]
    },
    {
      "cell_type": "markdown",
      "metadata": {
        "id": "OdWCaj28h8Kv"
      },
      "source": [
        "### **Punto 2**"
      ]
    },
    {
      "cell_type": "markdown",
      "metadata": {
        "id": "VrZKsOC5hwy6"
      },
      "source": [
        "### Realice la prueba de significancia del modelo, interprete"
      ]
    },
    {
      "cell_type": "code",
      "execution_count": null,
      "metadata": {
        "colab": {
          "base_uri": "https://localhost:8080/"
        },
        "id": "cfFOhPzHzei-",
        "outputId": "9221858f-5fef-434d-9757-f3d1bf13e34f"
      },
      "outputs": [
        {
          "name": "stdout",
          "output_type": "stream",
          "text": [
            "\n",
            "=== PRUEBA DE SIGNIFICANCIA DEL MODELO ===\n",
            "Estadístico F: 9.3699\n",
            "Valor p: 0.000234\n",
            "Nivel de significancia (α): 0.05\n",
            "\n",
            "Conclusión: Como p-value (0.000234) < α (0.05)\n",
            "Se RECHAZA H₀: El modelo de regresión ES significativo\n",
            "Al menos una variable predictora tiene efecto significativo sobre Y\n"
          ]
        }
      ],
      "source": [
        "alpha = 0.05\n",
        "\n",
        "# Interpretación\n",
        "print(\"\\n=== PRUEBA DE SIGNIFICANCIA DEL MODELO ===\")\n",
        "print(f\"Estadístico F: {f_statistic:.4f}\")\n",
        "print(f\"Valor p: {p_value:.6f}\")\n",
        "print(f\"Nivel de significancia (α): {alpha}\")\n",
        "\n",
        "if p_value < alpha:\n",
        "    print(f\"\\nConclusión: Como p-value ({p_value:.6f}) < α ({alpha})\")\n",
        "    print(\"Se RECHAZA H₀: El modelo de regresión ES significativo\")\n",
        "    print(\"Al menos una variable predictora tiene efecto significativo sobre Y\")\n",
        "else:\n",
        "    print(f\"\\nConclusión: Como p-value ({p_value:.6f}) >= α ({alpha})\")\n",
        "    print(\"NO se rechaza H₀: El modelo de regresión NO es significativo\")\n",
        "    print(\"Las variables predictoras no explican significativamente a Y\")"
      ]
    },
    {
      "cell_type": "markdown",
      "metadata": {
        "id": "Ly5Ab9cJi8oE"
      },
      "source": [
        "### Tras la depuración de los casos influyentes, el modelo gana en estabilidad y robustez. El resultado sugiere que la combinación de predictores contribuye de forma conjunta a explicar la variabilidad de las infecciones hospitalarias."
      ]
    },
    {
      "cell_type": "markdown",
      "metadata": {
        "id": "AxRpQWH5je7q"
      },
      "source": [
        "### **Punto 3**"
      ]
    },
    {
      "cell_type": "markdown",
      "metadata": {
        "id": "S0Kn7WKzjheN"
      },
      "source": [
        "### Obtener el coeficiente de determinación y el coeficiente de determinación ajustado. Interprete"
      ]
    },
    {
      "cell_type": "code",
      "execution_count": null,
      "metadata": {
        "colab": {
          "base_uri": "https://localhost:8080/"
        },
        "id": "W8GzzThv0cIw",
        "outputId": "5cfdc10d-7c48-447a-a885-ca465d912a0e"
      },
      "outputs": [
        {
          "name": "stdout",
          "output_type": "stream",
          "text": [
            "\n",
            "======================================================================\n",
            "INTERPRETACIÓN DE LOS COEFICIENTES DE DETERMINACIÓN\n",
            "======================================================================\n",
            "\n",
            "📊 R² (Coeficiente de Determinación): 0.9889\n",
            "   → Interpretación: El 98.89% de la variabilidad total de Y\n",
            "     (infecciones hospitalarias) es explicada por las variables\n",
            "     predictoras X1, X2, X3 y X4 en el modelo.\n",
            "   → El 1.11% restante se debe a factores no incluidos\n",
            "     en el modelo o al error aleatorio.\n",
            "\n",
            "📊 R² Ajustado: 0.9866\n",
            "   → Interpretación: Ajusta el R² penalizando por el número de\n",
            "     predictores (4 variables) en relación al tamaño de muestra (n=23).\n",
            "   → Es una medida más conservadora y apropiada para comparar\n",
            "     modelos con diferente número de variables.\n",
            "\n",
            "📉 Diferencia R² - R² ajustado: 0.0023\n",
            "   → La diferencia es pequeña, lo que sugiere que el número\n",
            "     de variables es apropiado para el tamaño de muestra.\n",
            "\n",
            "🎯 Evaluación de la calidad del ajuste:\n",
            "   EXCELENTE: El modelo explica muy bien la variabilidad de Y\n",
            "======================================================================\n"
          ]
        }
      ],
      "source": [
        "# Extraer los coeficientes del modelo\n",
        "r2 = modelo.rsquared\n",
        "r2_ajustado = modelo.rsquared_adj\n",
        "n = len(Y)\n",
        "k = X.shape[1]\n",
        "\n",
        "print(\"\\n\" + \"=\"*70)\n",
        "print(\"INTERPRETACIÓN DE LOS COEFICIENTES DE DETERMINACIÓN\")\n",
        "print(\"=\"*70)\n",
        "\n",
        "print(f\"\\n📊 R² (Coeficiente de Determinación): {r2:.4f}\")\n",
        "print(f\"   → Interpretación: El {r2*100:.2f}% de la variabilidad total de Y\")\n",
        "print(f\"     (infecciones hospitalarias) es explicada por las variables\")\n",
        "print(f\"     predictoras X1, X2, X3 y X4 en el modelo.\")\n",
        "print(f\"   → El {(1-r2)*100:.2f}% restante se debe a factores no incluidos\")\n",
        "print(f\"     en el modelo o al error aleatorio.\")\n",
        "\n",
        "print(f\"\\n📊 R² Ajustado: {r2_ajustado:.4f}\")\n",
        "print(f\"   → Interpretación: Ajusta el R² penalizando por el número de\")\n",
        "print(f\"     predictores ({k} variables) en relación al tamaño de muestra (n={n}).\")\n",
        "print(f\"   → Es una medida más conservadora y apropiada para comparar\")\n",
        "print(f\"     modelos con diferente número de variables.\")\n",
        "\n",
        "# Comparación\n",
        "diferencia = r2 - r2_ajustado\n",
        "print(f\"\\n📉 Diferencia R² - R² ajustado: {diferencia:.4f}\")\n",
        "if diferencia < 0.05:\n",
        "    print(f\"   → La diferencia es pequeña, lo que sugiere que el número\")\n",
        "    print(f\"     de variables es apropiado para el tamaño de muestra.\")\n",
        "else:\n",
        "    print(f\"   → La diferencia es considerable, podría indicar que el modelo\")\n",
        "    print(f\"     tiene demasiadas variables para el tamaño de muestra.\")\n",
        "\n",
        "# Evaluación de la calidad del ajuste\n",
        "print(f\"\\n🎯 Evaluación de la calidad del ajuste:\")\n",
        "if r2_ajustado >= 0.70:\n",
        "    print(f\"   EXCELENTE: El modelo explica muy bien la variabilidad de Y\")\n",
        "elif r2_ajustado >= 0.50:\n",
        "    print(f\"   BUENO: El modelo tiene un ajuste aceptable\")\n",
        "elif r2_ajustado >= 0.30:\n",
        "    print(f\"   MODERADO: El modelo tiene un ajuste modesto\")\n",
        "else:\n",
        "    print(f\"   BAJO: El modelo explica poco de la variabilidad de Y\")\n",
        "\n",
        "print(\"=\"*70)"
      ]
    },
    {
      "cell_type": "markdown",
      "metadata": {
        "id": "ztCYoHjclaOk"
      },
      "source": [
        "### El fenómeno está altamente determinado por los factores incluidos en el modelo, dejando poco margen a variabilidad no explicada. La mayor parte de las infecciones hospitalarias puede atribuirse a los factores recogidos en las variables independientes, lo cual respalda su relevancia práctica"
      ]
    },
    {
      "cell_type": "markdown",
      "metadata": {
        "id": "FGBMwXX6lryr"
      },
      "source": [
        "### **Punto 4**"
      ]
    },
    {
      "cell_type": "markdown",
      "metadata": {
        "id": "GpAkhPi6lwcP"
      },
      "source": [
        "### Analice si hay problemas de multicolinealidad"
      ]
    },
    {
      "cell_type": "markdown",
      "metadata": {
        "id": "ZCSIwA3nl0x0"
      },
      "source": [
        "### **Matriz de correlación entre las variables**"
      ]
    },
    {
      "cell_type": "code",
      "execution_count": null,
      "metadata": {
        "colab": {
          "base_uri": "https://localhost:8080/"
        },
        "id": "at7xw1Fu01oQ",
        "outputId": "4fa756e6-7d0d-4e47-aae3-905953bd5cf5"
      },
      "outputs": [
        {
          "name": "stdout",
          "output_type": "stream",
          "text": [
            "Matriz de correlación entre las variables:\n",
            "          X1        X2        X3        X4\n",
            "X1  1.000000  0.131769  0.274868  0.346304\n",
            "X2  0.131769  1.000000  0.411310  0.270596\n",
            "X3  0.274868  0.411310  1.000000  0.731098\n",
            "X4  0.346304  0.270596  0.731098  1.000000\n"
          ]
        }
      ],
      "source": [
        "correlacion = X.corr()\n",
        "print(\"Matriz de correlación entre las variables:\")\n",
        "print(correlacion)"
      ]
    },
    {
      "cell_type": "markdown",
      "metadata": {
        "id": "c8iKpSMhmtIX"
      },
      "source": [
        "### **Gráfico de dispersión entre las variables**"
      ]
    },
    {
      "cell_type": "code",
      "execution_count": null,
      "metadata": {
        "colab": {
          "base_uri": "https://localhost:8080/",
          "height": 807
        },
        "id": "iuIL8rPk1O7s",
        "outputId": "f215c957-e9c0-447a-fa52-b20dd00652f9"
      },
      "outputs": [
        {
          "data": {
            "image/png": "[encoded data removed]",
            "text/plain": [
              "<Figure size 1000x800 with 2 Axes>"
            ]
          },
          "metadata": {},
          "output_type": "display_data"
        }
      ],
      "source": [
        "# grafico de dispersión entre las variables heatmap\n",
        "import seaborn as sns\n",
        "plt.figure(figsize=(10, 8))\n",
        "sns.heatmap(correlacion, annot=True, fmt=\".2f\", cmap=\"coolwarm\", cbar=True)\n",
        "plt.title(\"Matriz de Correlación entre Variables\")\n",
        "plt.tight_layout()\n",
        "plt.show()"
      ]
    },
    {
      "cell_type": "markdown",
      "metadata": {
        "id": "M7T3m6GYpv9y"
      },
      "source": [
        "### Las correlaciones entre las variables predictoras son moderadas a bajas, lo que indica que no existe un problema grave de multicolinealidad en el modelo"
      ]
    },
    {
      "cell_type": "markdown",
      "metadata": {
        "id": "kwwouwTGqekX"
      },
      "source": [
        "### Ahora, se analiza con indicadores globales de multilinealidad"
      ]
    },
    {
      "cell_type": "code",
      "execution_count": null,
      "metadata": {
        "colab": {
          "base_uri": "https://localhost:8080/"
        },
        "id": "t6IdH7kv1WkG",
        "outputId": "1bb3da8a-7a33-4b1c-f5a6-99e60c48554f"
      },
      "outputs": [
        {
          "name": "stdout",
          "output_type": "stream",
          "text": [
            "Número de condición (κ): 2699.36\n",
            "Colinealidad severa detectada\n"
          ]
        }
      ],
      "source": [
        "# Cálculo del número de condición usando SVD\n",
        "import numpy as np\n",
        "\n",
        "# Agregamos la constante (columna de unos)\n",
        "X_with_const = sm.add_constant(X)\n",
        "\n",
        "# Descomposición en valores singulares de X\n",
        "U, s, Vt = np.linalg.svd(X_with_const, full_matrices=False)\n",
        "\n",
        "# Número de condición = valor singular máximo / valor singular mínimo\n",
        "kappa = s[0] / s[-1]\n",
        "\n",
        "print(f\"Número de condición (κ): {kappa:.2f}\")\n",
        "\n",
        "# Interpretación\n",
        "if kappa > 1000:\n",
        "    print(\"Colinealidad severa detectada\")\n",
        "elif kappa > 100:\n",
        "    print(\"Colinealidad moderada detectada\")\n",
        "else:\n",
        "    print(\"No hay problemas de colinealidad\")"
      ]
    },
    {
      "cell_type": "code",
      "execution_count": null,
      "metadata": {
        "colab": {
          "base_uri": "https://localhost:8080/"
        },
        "id": "3v3mPF8s1bjC",
        "outputId": "b055f339-b43e-4d43-a61e-083795fa33bc"
      },
      "outputs": [
        {
          "name": "stdout",
          "output_type": "stream",
          "text": [
            "Número de condición (κ): 7286556.43\n",
            "Colinealidad severa detectada\n"
          ]
        }
      ],
      "source": [
        "# Cálculo del número de condición para detectar colinealidad\n",
        "import numpy as np\n",
        "\n",
        "# Agregamos la constante (columna de unos)\n",
        "X_with_const = sm.add_constant(X)\n",
        "\n",
        "# Calculamos los valores propios de X'X\n",
        "eigenvalues = np.linalg.eigvals(np.dot(X_with_const.T, X_with_const))\n",
        "\n",
        "# Número de condición\n",
        "kappa = np.max(eigenvalues) / np.min(eigenvalues)\n",
        "\n",
        "print(f\"Número de condición (κ): {kappa:.2f}\")\n",
        "\n",
        "# Interpretación\n",
        "if kappa > 1000:\n",
        "    print(\"Colinealidad severa detectada\")\n",
        "elif kappa > 100:\n",
        "    print(\"Colinealidad moderada detectada\")\n",
        "else:\n",
        "    print(\"No hay problemas de colinealidad\")"
      ]
    },
    {
      "cell_type": "markdown",
      "metadata": {
        "id": "RgO6v7b4rs7B"
      },
      "source": [
        "### A pesar de que el modelo global puede parecer ser bueno, la interpretación de los coeficientes no es confiable\n",
        "\n",
        "### La colinealidad severa indica que hay variables predictoras que están aportando información redundante. Esto provoca inestabilidad"
      ]
    },
    {
      "cell_type": "markdown",
      "metadata": {
        "id": "DL9fSJ8bs0LE"
      },
      "source": [
        "### **Punto 5**"
      ]
    },
    {
      "cell_type": "markdown",
      "metadata": {
        "id": "Eo36CKoqstAU"
      },
      "source": [
        "### Realice una selección de variables por el método que prefiera, tome decisiones, explique"
      ]
    },
    {
      "cell_type": "code",
      "execution_count": null,
      "metadata": {
        "colab": {
          "base_uri": "https://localhost:8080/"
        },
        "id": "ckQ0-Kwr1hIk",
        "outputId": "115c3711-389a-4fd4-cfdd-fd8aa2fe2773"
      },
      "outputs": [
        {
          "name": "stdout",
          "output_type": "stream",
          "text": [
            "Índices de condición basados en los valores propios:\n",
            "Variable const: 1.00\n",
            "Variable X1: 12.66\n",
            "Variable X2: 18.08\n",
            "Variable X3: 2699.36\n",
            "Variable X4: 44.79\n"
          ]
        }
      ],
      "source": [
        "# indice de condicion basado en lambda max\n",
        "\n",
        "import numpy as np\n",
        "# Cálculo del índice de condición basado en los valores propios para cada valor\n",
        "# Agregamos la constante (columna de unos)\n",
        "X_with_const = sm.add_constant(X)\n",
        "# Calculamos los valores propios de X'X\n",
        "eigenvalues = np.linalg.eigvals(np.dot(X_with_const.T, X_with_const))\n",
        "# Índice de condición para cada valor propio\n",
        "condition_indices = np.sqrt(np.max(eigenvalues) / eigenvalues)\n",
        "# Mostramos los índices de condición\n",
        "print(\"Índices de condición basados en los valores propios:\")\n",
        "for i, ci in enumerate(condition_indices):\n",
        "    print(f\"Variable {X_with_const.columns[i]}: {ci:.2f}\")"
      ]
    },
    {
      "cell_type": "markdown",
      "metadata": {
        "id": "mwS4Akedsd3V"
      },
      "source": [
        "\n",
        "### X3 es la fuente principal de colinealidad severa\n",
        "\n",
        "### X4 es moderada, pero no tan crítica como X3"
      ]
    },
    {
      "cell_type": "markdown",
      "metadata": {
        "id": "EiUocwittx7s"
      },
      "source": [
        "### **Selección de modelos alternativos**"
      ]
    },
    {
      "cell_type": "code",
      "execution_count": null,
      "metadata": {
        "id": "kEU5BLoN1lb4"
      },
      "outputs": [],
      "source": [
        "results = []\n",
        "X_with_const = sm.add_constant(X)\n",
        "variables = X_with_const.columns[1:]  # Excluimos la constante\n",
        "for k in range(1, min(len(variables) + 1, 8)):  # Limitar a combinaciones de hasta 3 variables\n",
        "    from itertools import combinations\n",
        "    for combo in combinations(variables, k):\n",
        "        combo_vars = list(combo)\n",
        "        X_combo = X_with_const[['const'] + combo_vars]\n",
        "        modelo_combo = sm.OLS(Y, X_combo).fit()\n",
        "\n",
        "        n = len(Y)\n",
        "        p = k + 1  # +1 para la constante\n",
        "\n",
        "        MSE_FULL = modelo_combo.mse_resid\n",
        "        SSE_p = modelo_combo.ssr\n",
        "        cp = SSE_p / MSE_FULL - (n - 2 * p)\n",
        "\n",
        "        results.append({\n",
        "            'Variables': combo_vars,\n",
        "            'R²': modelo_combo.rsquared,\n",
        "            'R² ajustado': modelo_combo.rsquared_adj,\n",
        "            #'AIC': modelo_combo.aic,\n",
        "            #'BIC': modelo_combo.bic,\n",
        "            'Cp de Mallows': cp,\n",
        "            'vp': modelo_combo.f_pvalue\n",
        "        })"
      ]
    },
    {
      "cell_type": "code",
      "execution_count": null,
      "metadata": {
        "colab": {
          "base_uri": "https://localhost:8080/"
        },
        "id": "8rr4vsCC1sgR",
        "outputId": "856ed608-84ff-4d2d-e466-f9593d296a97"
      },
      "outputs": [
        {
          "name": "stdout",
          "output_type": "stream",
          "text": [
            "Número total de modelos evaluados: 15\n",
            "           Variables        R²  R² ajustado  Cp de Mallows            vp\n",
            "12      [X1, X3, X4]  0.952377     0.944858            4.0  9.717400e-13\n",
            "14  [X1, X2, X3, X4]  0.953856     0.943602            5.0  9.091311e-12\n",
            "5           [X1, X3]  0.920106     0.912116            3.0  1.059644e-11\n",
            "10      [X1, X2, X3]  0.920924     0.908438            4.0  1.183587e-10\n",
            "9           [X3, X4]  0.883490     0.871839            3.0  4.609270e-10\n",
            "13      [X2, X3, X4]  0.885706     0.867660            4.0  3.849356e-09\n",
            "2               [X3]  0.824023     0.815643            2.0  2.244024e-09\n",
            "7           [X2, X3]  0.825263     0.807789            3.0  2.653678e-08\n",
            "11      [X1, X2, X4]  0.796930     0.764867            4.0  8.637740e-07\n",
            "6           [X1, X4]  0.765834     0.742417            3.0  4.957311e-07\n"
          ]
        }
      ],
      "source": [
        "len_results = len(results)\n",
        "print(f\"Número total de modelos evaluados: {len_results}\")\n",
        "# Convertimos a DataFrame para mejor visualización\n",
        "results = pd.DataFrame(results)\n",
        "# Mostramos los mejores modelos según diferentes criterios\n",
        "results = results.sort_values(by='R² ajustado', ascending=False).head(10)\n",
        "\n",
        "print(results)"
      ]
    },
    {
      "cell_type": "markdown",
      "metadata": {
        "id": "RdH6QHzIt3NU"
      },
      "source": [
        "### Se decide que el modelo [X1, X3, X4] es el mejor porque logra un balance entre Cp de Mallows, R² ajustado, colinealidad y significancia"
      ]
    },
    {
      "cell_type": "markdown",
      "metadata": {
        "id": "ezM1Rj9rvICO"
      },
      "source": [
        "### **Punto 6**"
      ]
    },
    {
      "cell_type": "markdown",
      "metadata": {
        "id": "LnwgGH8QvKyM"
      },
      "source": [
        "### Realice una predicción utilizando el modelo seleccionado, interprete"
      ]
    },
    {
      "cell_type": "code",
      "execution_count": 2,
      "metadata": {
        "id": "e6Zd7FXp0x__"
      },
      "outputs": [
        {
          "name": "stdout",
          "output_type": "stream",
          "text": [
            "                            OLS Regression Results                            \n",
            "==============================================================================\n",
            "Dep. Variable:                      Y   R-squared:                       0.952\n",
            "Model:                            OLS   Adj. R-squared:                  0.945\n",
            "Method:                 Least Squares   F-statistic:                     126.7\n",
            "Date:                Thu, 02 Oct 2025   Prob (F-statistic):           9.72e-13\n",
            "Time:                        15:16:09   Log-Likelihood:                -62.834\n",
            "No. Observations:                  23   AIC:                             133.7\n",
            "Df Residuals:                      19   BIC:                             138.2\n",
            "Df Model:                           3                                         \n",
            "Covariance Type:            nonrobust                                         \n",
            "==============================================================================\n",
            "                 coef    std err          t      P>|t|      [0.025      0.975]\n",
            "------------------------------------------------------------------------------\n",
            "const       -121.0104     11.269    -10.738      0.000    -144.597     -97.424\n",
            "X1             0.2684      0.051      5.243      0.000       0.161       0.375\n",
            "X3             1.3821      0.160      8.627      0.000       1.047       1.717\n",
            "X4             0.4846      0.135      3.588      0.002       0.202       0.767\n",
            "==============================================================================\n",
            "Omnibus:                        2.057   Durbin-Watson:                   1.373\n",
            "Prob(Omnibus):                  0.358   Jarque-Bera (JB):                1.307\n",
            "Skew:                           0.308   Prob(JB):                        0.520\n",
            "Kurtosis:                       2.008   Cond. No.                     2.28e+03\n",
            "==============================================================================\n",
            "\n",
            "Notes:\n",
            "[1] Standard Errors assume that the covariance matrix of the errors is correctly specified.\n",
            "[2] The condition number is large, 2.28e+03. This might indicate that there are\n",
            "strong multicollinearity or other numerical problems.\n",
            "\n",
            "Coeficientes estimados:\n",
            "const   -121.010422\n",
            "X1         0.268360\n",
            "X3         1.382078\n",
            "X4         0.484594\n",
            "dtype: float64\n",
            "\n",
            "Primeras filas con predicciones e intervalos de confianza:\n",
            "    Y      Y_pred  IC_95_inf   IC_95_sup\n",
            "0  88   82.435935  79.651991   85.219879\n",
            "1  80   80.912941  75.707840   86.118041\n",
            "2  96  100.776301  98.139567  103.413036\n",
            "3  76   80.663537  77.303049   84.024026\n",
            "4  80   79.767177  77.389576   82.144778\n"
          ]
        }
      ],
      "source": [
        "import pandas as pd\n",
        "import statsmodels.api as sm\n",
        "# ----------------------------------------------------------------\n",
        "data = pd.read_csv(r\"C:\\Users\\Usuario\\Desktop\\Python\\prueba\\FundamentosDeProgramacion\\TALLERES\\Taller7\\base_trabajo4_limpio.csv\", sep=\";\", header=0)\n",
        "\n",
        "# Variables dependiente e independientes (modelo reducido con X1, X3 y X4)\n",
        "Y = data[\"Y\"]\n",
        "X = data[[\"X1\", \"X3\", \"X4\"]]\n",
        "X = sm.add_constant(X)  # Agregamos intercepto\n",
        "\n",
        "# Ajustar el modelo OLS\n",
        "modelo_sel = sm.OLS(Y, X).fit()\n",
        "\n",
        "print(modelo_sel.summary())\n",
        "\n",
        "print(\"\\nCoeficientes estimados:\")\n",
        "print(modelo_sel.params)\n",
        "\n",
        "# Predicciones sobre las observaciones del CSV\n",
        "predicciones = modelo_sel.get_prediction(X)\n",
        "\n",
        "# Valores puntuales\n",
        "data[\"Y_pred\"] = predicciones.predicted_mean\n",
        "\n",
        "# Intervalos de confianza al 95%\n",
        "conf_int = predicciones.conf_int(alpha=0.05)\n",
        "data[\"IC_95_inf\"] = conf_int[:, 0]\n",
        "data[\"IC_95_sup\"] = conf_int[:, 1]\n",
        "\n",
        "# Mostrar resultados\n",
        "print(\"\\nPrimeras filas con predicciones e intervalos de confianza:\")\n",
        "print(data[[\"Y\", \"Y_pred\", \"IC_95_inf\", \"IC_95_sup\"]].head())"
      ]
    },
    {
      "cell_type": "markdown",
      "metadata": {},
      "source": [
        "### Para la primera observación, el modelo predice un valor de 80.91 infecciones hospitalarias, con un intervalo de confianza al 95% entre 75.71 y 86.12. El valor real fue 80, lo que confirma un ajuste muy cercano.\n",
        "\n",
        "### Para la segunda observación, el modelo predice 100.77, con un intervalo entre 98.14 y 103.41; el valor real fue 96, que queda algo por debajo pero aún razonablemente cerca del intervalo.\n",
        "\n",
        "### En general, los valores predichos son muy próximos a los observados, lo que respalda la fiabilidad del modelo."
      ]
    },
    {
      "cell_type": "markdown",
      "metadata": {},
      "source": [
        "### **Conclusión**"
      ]
    },
    {
      "cell_type": "markdown",
      "metadata": {},
      "source": [
        "### El modelo reducido con X1, X3 y X4 tiene un alto poder explicativo y genera predicciones consistentes y con intervalos de confianza estrechos. El modelo es adecuado para estimar nuevas observaciones, y puede ser usado para fines predictivos en este contexto."
      ]
    }
  ],
  "metadata": {
    "colab": {
      "provenance": []
    },
    "kernelspec": {
      "display_name": ".venv",
      "language": "python",
      "name": "python3"
    },
    "language_info": {
      "codemirror_mode": {
        "name": "ipython",
        "version": 3
      },
      "file_extension": ".py",
      "mimetype": "text/x-python",
      "name": "python",
      "nbconvert_exporter": "python",
      "pygments_lexer": "ipython3",
      "version": "3.13.7"
    }
  },
  "nbformat": 4,
  "nbformat_minor": 0
}
