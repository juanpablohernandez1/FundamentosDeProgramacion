{
 "cells": [
  {
   "cell_type": "markdown",
   "id": "bf0eaf6a",
   "metadata": {},
   "source": [
    "# Ejercicios Taller 1\n",
    "\n",
    "### 1. Rotation Left\n",
    "##### A  operation on a circular array shifts each of the array's elements  unit to the left. The elements that fall off the left end reappear at the right end. Given an integer , rotate the array that many steps to the left and return the result."
   ]
  },
  {
   "cell_type": "code",
   "execution_count": null,
   "id": "af27c4c8",
   "metadata": {},
   "outputs": [],
   "source": [
    "import math\n",
    "import os\n",
    "import random\n",
    "import re\n",
    "import sys\n",
    "\n",
    "def rotateLeft(d, arr):\n",
    "    n = len(arr)\n",
    "    arr1 = arr[d:n]\n",
    "    for x in range (0,d):\n",
    "        arr1.append(arr[x])\n",
    "    print(\" \".join(map(str, arr1)))\n",
    "d1 = int(input(\"Escribe el número de rotaciones a la izquierda: \"))\n",
    "arr11 = list(map(int, input(\"Escribe la lista: \").split()))\n",
    "rotateLeft(d1,arr11)\n",
    "    # Write your code here"
   ]
  },
  {
   "cell_type": "markdown",
   "id": "9b7f63e4",
   "metadata": {},
   "source": [
    "### 2. Maximum triangle perimeter\n",
    "##### Given an array of stick lengths, use  of them to construct a non-degenerate triangle with the maximum possible perimeter. Return an array of the lengths of its sides as  integers in non-decreasing order.\n",
    "\n",
    "##### If there are several valid triangles having the maximum perimeter:\n",
    "\n",
    "##### Choose the one with the longest maximum side.\n",
    "##### If more than one has that maximum, choose from them the one with the longest minimum side.\n",
    "##### If more than one has that maximum as well, print any one them.\n",
    "##### If no non-degenerate triangle exists, return -1."
   ]
  },
  {
   "cell_type": "code",
   "execution_count": 2,
   "id": "9f570939",
   "metadata": {},
   "outputs": [
    {
     "name": "stdout",
     "output_type": "stream",
     "text": [
      "27\n"
     ]
    }
   ],
   "source": [
    "import math\n",
    "import os\n",
    "import random\n",
    "import re\n",
    "import sys\n",
    "from itertools import combinations\n",
    "\n",
    "def maximumPerimeterTriangle(sticks):\n",
    "    lista = []\n",
    "    sticks_orden = sorted(sticks)\n",
    "    for triangulo in combinations(sticks_orden, 3):\n",
    "        if triangulo[0] + triangulo[1] <= triangulo[2]:\n",
    "            pass\n",
    "        else:\n",
    "            suma = triangulo[0] + triangulo[1] + triangulo[2]\n",
    "            lista.append(suma)\n",
    "    if not lista:\n",
    "        print(-1)\n",
    "    else:\n",
    "        print(max(lista))\n",
    "medidas_triangulo = list(map(int, input(\"Escribe las medidas del triangulo: \").split()))\n",
    "maximumPerimeterTriangle(medidas_triangulo)\n"
   ]
  },
  {
   "cell_type": "markdown",
   "id": "a190c801",
   "metadata": {},
   "source": [
    "### 3. Staircase\n",
    "\n",
    "##### This is a staircase of size n = 4:\n",
    "#####    \"#\"\n",
    "#####   \"##\"\n",
    "#####  \"###\"\n",
    "##### \"####\"\n",
    "##### Its base and height are both equal to . It is drawn using # symbols and spaces. The last line is not preceded by any spaces.\n",
    "\n",
    "##### Write a program that prints a staircase of size."
   ]
  },
  {
   "cell_type": "code",
   "execution_count": null,
   "id": "f5cd36cd",
   "metadata": {},
   "outputs": [],
   "source": [
    "import math\n",
    "import os\n",
    "import random\n",
    "import re\n",
    "import sys\n",
    "\n",
    "def staircase(n):\n",
    "    lista = []\n",
    "    for x in range(0,n):\n",
    "        escalon = \" \"*(n - x) + \"#\"*(x+1)\n",
    "        lista.append(escalon)\n",
    "        print(*lista[x])\n",
    "y = int(input(\"Introduzca el número de escalones: \"))\n",
    "staircase(y)"
   ]
  },
  {
   "cell_type": "markdown",
   "id": "0ae05c68",
   "metadata": {},
   "source": [
    "### 4. Missing Numbers\n",
    "\n",
    "##### Given two arrays of integers, find which elements in the second array are missing from the first array."
   ]
  },
  {
   "cell_type": "code",
   "execution_count": null,
   "id": "3aad2298",
   "metadata": {},
   "outputs": [],
   "source": [
    "import math\n",
    "import os\n",
    "import random\n",
    "import re\n",
    "import sys\n",
    "\n",
    "def missingNumbers(arr, brr):\n",
    "    lista = []\n",
    "    for x in range (0,len(brr)):\n",
    "        if brr[x] in arr:\n",
    "            pass\n",
    "        else:\n",
    "            lista.append(brr[x])\n",
    "    print(*lista)\n",
    "arr1 = list(map(int, input(\"Escribe la primera lista a comparar \").split()))\n",
    "brr1 = list(map(int, input(\"Escribe la segunda lista a comparar \").split()))\n",
    "missingNumbers(arr1, brr1)"
   ]
  },
  {
   "cell_type": "markdown",
   "id": "820d1e5a",
   "metadata": {},
   "source": [
    "### 5. Mini-Max Sum\n",
    "\n",
    "##### Given five positive integers, find the minimum and maximum values that can be calculated by summing exactly four of the five integers. Then print the respective minimum and maximum values as a single line of two space-separated long integers."
   ]
  },
  {
   "cell_type": "code",
   "execution_count": null,
   "id": "875482cc",
   "metadata": {},
   "outputs": [],
   "source": [
    "import math\n",
    "import os\n",
    "import random\n",
    "import re\n",
    "import sys\n",
    "from itertools import combinations\n",
    "\n",
    "def miniMaxSum(arr):\n",
    "    lista = []\n",
    "    for comb in combinations(arr, 4):\n",
    "        lista.append(comb[0] + comb[1] + comb[2] + comb[3])\n",
    "    print(min(lista),max(lista))\n",
    "valor = list(map(int, input(\"Escribe los números (mínimo 5): \").split()))\n",
    "miniMaxSum(valor)"
   ]
  }
 ],
 "metadata": {
  "kernelspec": {
   "display_name": "Python 3",
   "language": "python",
   "name": "python3"
  },
  "language_info": {
   "codemirror_mode": {
    "name": "ipython",
    "version": 3
   },
   "file_extension": ".py",
   "mimetype": "text/x-python",
   "name": "python",
   "nbconvert_exporter": "python",
   "pygments_lexer": "ipython3",
   "version": "3.13.5"
  }
 },
 "nbformat": 4,
 "nbformat_minor": 5
}
